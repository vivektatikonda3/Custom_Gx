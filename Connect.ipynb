{
 "cells": [
  {
   "cell_type": "code",
   "execution_count": 8,
   "metadata": {},
   "outputs": [
    {
     "name": "stdout",
     "output_type": "stream",
     "text": [
      "Python 3.10.0\n"
     ]
    }
   ],
   "source": [
    "!python --version"
   ]
  },
  {
   "cell_type": "code",
   "execution_count": 9,
   "metadata": {},
   "outputs": [
    {
     "name": "stdout",
     "output_type": "stream",
     "text": [
      "(1, 19, 0)\n",
      "[Row(CURRENT_WAREHOUSE()='COMPUTE_WH', CURRENT_DATABASE()='GX_TRY_DB', CURRENT_SCHEMA()='PUBLIC')]\n"
     ]
    }
   ],
   "source": [
    "from snowflake.snowpark.session import Session\n",
    "from snowflake.snowpark.functions import udf, avg, col,lit,call_udf,countDistinct,sproc,udf\n",
    "from snowflake.snowpark.types import IntegerType, FloatType, StringType, BooleanType\n",
    "from configs_conn.config import snowflake_connect as snowflake_conn\n",
    "import sys\n",
    "import json                \n",
    "import platform\n",
    "import os,requests\n",
    "from pathlib import Path\n",
    "import glob\n",
    "import pandas as pd\n",
    "from src.DataValidationContext import *\n",
    "\n",
    "from snowflake.snowpark import version\n",
    "print(version.VERSION)\n",
    "\n",
    "session = Session.builder.configs(snowflake_conn).create()\n",
    "print(session.sql('select current_warehouse(), current_database(), current_schema()').collect())"
   ]
  },
  {
   "cell_type": "code",
   "execution_count": 10,
   "metadata": {},
   "outputs": [
    {
     "data": {
      "text/plain": [
       "[Row(CURRENT_ACCOUNT()='AH93068')]"
      ]
     },
     "execution_count": 10,
     "metadata": {},
     "output_type": "execute_result"
    }
   ],
   "source": [
    "session.sql(\"select current_account()\").collect()"
   ]
  },
  {
   "cell_type": "code",
   "execution_count": 11,
   "metadata": {},
   "outputs": [],
   "source": [
    "# import os\n",
    "# import requests\n",
    "# from pathlib import Path\n",
    "# import tarfile\n",
    "\n",
    "# PROJECT_HOME_DIR = '.'\n",
    "# LOCAL_TEMP_DIR = os.path.join(PROJECT_HOME_DIR, 'temp') \n",
    "# LOCAL_LIB_DIR = os.path.join(LOCAL_TEMP_DIR, 'libs')\n",
    "# LOCAL_TARFile_DIR = os.path.join(LOCAL_TEMP_DIR, 'tarfiles')\n",
    "# LIB_URLS = [\n",
    "#     #'https://files.pythonhosted.org/packages/8e/9d/cecb12289f7967b15facf550a0bbb9c1e910968c3a61b91fd8cdb80aeb3c/great_expectations-0.15.14.tar.gz'\n",
    "#     'https://files.pythonhosted.org/packages/be/be/2be7040e5ff87b33f253e98bd1b18421c0b1027cf46fed31720f8a3a03c9/great_expectations-0.17.11.tar.gz'\n",
    "# ]\n",
    "\n",
    "# for lib_url in LIB_URLS:\n",
    "#     # get the file name, from the url\n",
    "#     splits = lib_url.split('/')\n",
    "#     tot_splits = len(splits)\n",
    "#     target_file = splits[-1]\n",
    "    \n",
    "#     local_lib_fl = os.path.join(LOCAL_TARFile_DIR, target_file)\n",
    "#     print(local_lib_fl)\n",
    "\n",
    "#     # Create a local directory for TAR and extracting tar..\n",
    "#     Path(LOCAL_TARFile_DIR).mkdir(parents=True, exist_ok=True)\n",
    "#     print(f'Created local dir: {LOCAL_TARFile_DIR}')\n",
    "\n",
    "#     Path(LOCAL_LIB_DIR).mkdir(parents=True, exist_ok=True)\n",
    "#     print(f'Created local dir: {LOCAL_LIB_DIR}')\n",
    "\n",
    "#     print(f'Downloading library from PyPI to {LOCAL_TARFile_DIR} ...')\n",
    "#     with open(local_lib_fl, \"wb\") as f:\n",
    "#         r = requests.get(lib_url)\n",
    "#         f.write(r.content)\n",
    "\n",
    "# # Extract GE tar file\n",
    "# try:\n",
    "#     with tarfile.open(local_lib_fl) as file:\n",
    "#         print(f'Started extracting GE tar file to {LOCAL_LIB_DIR}/ge ...')\n",
    "#         file.extractall(os.path.join(LOCAL_LIB_DIR, 'ge'))\n",
    "#         print(f'Done extracting GE tar file to {LOCAL_LIB_DIR}/ge ...')\n",
    "# except Exception as e:\n",
    "#     print(f'Error extracting {local_lib_fl}: {e}')\n"
   ]
  },
  {
   "cell_type": "code",
   "execution_count": 12,
   "metadata": {},
   "outputs": [
    {
     "name": "stdout",
     "output_type": "stream",
     "text": [
      "./temp/libs/ge\\great_expectations-0.15.14/great_expectations\n"
     ]
    }
   ],
   "source": [
    "import glob\n",
    "ge_import_path=''\n",
    "for result in glob.iglob('./temp/libs/ge/great_expectations-0.15*'):\n",
    "    ge_import_path=result+'/great_expectations'\n",
    "print(ge_import_path)"
   ]
  },
  {
   "cell_type": "code",
   "execution_count": 13,
   "metadata": {},
   "outputs": [],
   "source": [
    "from configs_conn.config import snowflake_connect as snowflake_conn\n",
    "from src.DataValidationContext import GEDataValidationContext\n",
    "from src.BatchRequest import getBatchRequest \n",
    "from src.Expectations import  createExpectationSuite, createExpectations\n",
    "from src.RunLoadExpectations import runExpectaionValidation,loadValidationToDB\n",
    "\n",
    "\n",
    "import json\n",
    "import os\n",
    "from custom_Expectations.cust_try import ExpectColumnValuesToBeWithinFreshnessExpectation\n",
    "\n",
    "\n",
    "session.sql(\"create or replace stage tired\").collect()\n",
    "\n",
    "session.clear_packages()\n",
    "session.add_packages('pyparsing', 'pandas', 'pydantic==1.10.12', 'makefun==1.15.1', 'ipywidgets==8.1.2', 'pycryptodomex', 'boto3', 'tzlocal', 'tqdm', 'requests', 'ruamel.yaml', 'ipython', 'jsonpatch', 'mistune==2.0.4', 'jinja2', 'jsonschema==4.19.2', 'scipy', 'altair', 'Click', 'colorama', 'cryptography', 'snowflake-snowpark-python', 'sqlalchemy', 'chardet', 'asn1crypto', 'marshmallow')\n",
    "\n",
    "session.clear_imports()\n",
    "session.add_import(ge_import_path)\n",
    "session.add_import('src')\n",
    "session.add_import('configs_conn')\n",
    "session.add_import('custom_Expectations')\n",
    "\n",
    "@sproc(session=session,name=\"usp_generateGEValidationResults\", replace=True, return_type=StringType(),input_types=[StringType(),StringType(),StringType(),StringType()], is_permanent=True, stage_location='@tired/ge_AllLibs')\n",
    "def generateGEValidationResults(session: Session,datasourcename:str,expecationsuitename:str,checkpointname:str,sftablename) -> str:\n",
    "    try:\n",
    "        # Import and register the custom expectation\n",
    "        from custom_Expectations.cust_try import ExpectColumnValuesToBeWithinFreshnessExpectation\n",
    "        from great_expectations.expectations.registry import register_expectation\n",
    "        register_expectation(ExpectColumnValuesToBeWithinFreshnessExpectation)\n",
    "        \n",
    "    except Exception as e:\n",
    "        return f\"Error registering custom expectation: {e}\"\n",
    "\n",
    "    from pathlib import Path\n",
    "    import os ,sys ,json ,tarfile\n",
    "\n",
    " \n",
    "    #Creating GE context inside code\n",
    "    ge=GEDataValidationContext(datasourcename)\n",
    "    context=ge.getContext()\n",
    "    \n",
    "    # Creating the Pandas DataFrame from Snowpark DF\n",
    "    pd_df=session.sql(\"select * from Ge\").to_pandas()\n",
    "    \n",
    "    # Getting the batch request used while creating and running validation on expectations\n",
    "    local_batch_request=getBatchRequest(context,datasourcename,pd_df)\n",
    "    \n",
    "    #Creating GE expectation Suite\n",
    "    createExpectationSuite(context,expecationsuitename)\n",
    "    \n",
    "    #Creating GE expecations\n",
    "    createExpectations(context,expecationsuitename,local_batch_request,pd_df)\n",
    "    \n",
    "    #Running GE validation \n",
    "    res=runExpectaionValidation(context,checkpointname,local_batch_request,expecationsuitename,datasourcename)\n",
    "    \n",
    "    #Loading validation result to Snowflake table. Using append option while writing the data to the table\n",
    "    loadValidationToDB(session,res,sftablename)\n",
    "      \n",
    "    return 'SUCCESS'"
   ]
  },
  {
   "cell_type": "code",
   "execution_count": 14,
   "metadata": {},
   "outputs": [
    {
     "data": {
      "text/plain": [
       "[Row(USP_GENERATEGEVALIDATIONRESULTS='SUCCESS')]"
      ]
     },
     "execution_count": 14,
     "metadata": {},
     "output_type": "execute_result"
    }
   ],
   "source": [
    "session.sql(\"call usp_generateGEValidationResults('PandasDataSource','StudExpecatation','StudCheckpoint','StudGEValidation')\").collect()"
   ]
  },
  {
   "cell_type": "code",
   "execution_count": null,
   "metadata": {},
   "outputs": [],
   "source": []
  }
 ],
 "metadata": {
  "kernelspec": {
   "display_name": "Python 3 (ipykernel)",
   "language": "python",
   "name": "python3"
  },
  "language_info": {
   "codemirror_mode": {
    "name": "ipython",
    "version": 3
   },
   "file_extension": ".py",
   "mimetype": "text/x-python",
   "name": "python",
   "nbconvert_exporter": "python",
   "pygments_lexer": "ipython3",
   "version": "3.10.0"
  }
 },
 "nbformat": 4,
 "nbformat_minor": 4
}
